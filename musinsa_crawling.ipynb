{
 "cells": [
  {
   "cell_type": "code",
   "execution_count": null,
   "id": "c129f6f6",
   "metadata": {},
   "outputs": [],
   "source": [
    "from bs4 import BeautifulSoup \n",
    "import time\n",
    "import urllib.request as request\n",
    "import os\n",
    "from tqdm import tqdm"
   ]
  },
  {
   "cell_type": "code",
   "execution_count": null,
   "id": "e4f118c0",
   "metadata": {
    "scrolled": true
   },
   "outputs": [],
   "source": [
    "num_page = 169\n",
    "clothes_num = 11\n",
    "save_dir = \"./img/long_sleeve\"\n",
    "\n",
    "for page in range(1, num_page):\n",
    "    # page 변경\n",
    "    url = \"https://www.musinsa.com/categories/item/001010?d_cat_cd=001010&brand=&list_kind=big&sort=pop_category&sub_sort=&page={}&display_cnt=90&group_sale=&exclusive_yn=&sale_goods=&timesale_yn=&ex_soldout=&kids=&color=&price1=&price2=&shoeSizeOption=&tags=&campaign_id=&includeKeywords=&measure=\".format(page)\n",
    "    res = req.urlopen(url)\n",
    "\n",
    "    soup = BeautifulSoup(res, \"html.parser\")\n",
    "    # img 태그 리스트\n",
    "    img_list = soup.select(\"div.list_img > a > img\")\n",
    "    \n",
    "    for img in tqdm(img_list):\n",
    "        # data-original = 이미지 경로\n",
    "        img_url = \"https:\" + img.attrs['data-original']\n",
    "        savename = \"{}/{}_long_sleeve.png\".format(save_dir, clothes_num);\n",
    "        clothes_num += 1\n",
    "        req.urlretrieve(img_url, savename)\n",
    "        \n",
    "    print(savename, \"{}페이지 저장 완료!\".format(page))"
   ]
  },
  {
   "cell_type": "code",
   "execution_count": null,
   "id": "221cda44",
   "metadata": {},
   "outputs": [],
   "source": [
    "clothes_num = 1\n",
    "save_dir = \"./img/kream_tshirts\"\n",
    "\n",
    "url = \"https://www.kream.co.kr/search?category_id=23&sort=popular\"\n",
    "res = req.urlopen(url)\n",
    "\n",
    "soup = BeautifulSoup(res, \"html.parser\")\n",
    "\n",
    "img_list = soup.select(\"div.product > picture > img\")\n",
    "\n",
    "for img in tqdm(img_list):\n",
    "    # data-original = 이미지 경로\n",
    "    img_url = img.attrs['src']\n",
    "    savename = \"{}/{}_tshirts.png\".format(save_dir, clothes_num);\n",
    "    clothes_num += 1\n",
    "    req.urlretrieve(img_url, savename)\n",
    "\n",
    "print(\"저장 완료!\")"
   ]
  },
  {
   "cell_type": "markdown",
   "id": "d76e6cbd",
   "metadata": {},
   "source": [
    "# 크롤링"
   ]
  },
  {
   "cell_type": "code",
   "execution_count": null,
   "id": "6cfa4de7",
   "metadata": {},
   "outputs": [],
   "source": [
    "import requests as req\n",
    "\n",
    "url = \"https://kream.co.kr/search?category_id=23&sort=popular&per_page=40\"\n",
    "header = {'User-Agent':'Mozila/5.0'}\n",
    "res = req.get(url, headers=header).text\n",
    "# res  = req.urlopen(url)\n",
    "\n",
    "soup = BeautifulSoup(res, \"html.parser\")\n",
    "\n",
    "soup.select('div.search_content')[0].select('div.search_result_item')"
   ]
  },
  {
   "cell_type": "code",
   "execution_count": null,
   "id": "049caf90",
   "metadata": {},
   "outputs": [],
   "source": [
    "len(soup.select('div.search_content')[0].select('div.search_result_item'))"
   ]
  },
  {
   "cell_type": "code",
   "execution_count": 6,
   "id": "239cf2e2",
   "metadata": {},
   "outputs": [],
   "source": [
    "import requests as req\n",
    "import urllib.request as request\n",
    "from bs4 import BeautifulSoup \n",
    "import time\n",
    "from tqdm import tqdm"
   ]
  },
  {
   "cell_type": "code",
   "execution_count": 8,
   "id": "2a0e53f8",
   "metadata": {},
   "outputs": [],
   "source": [
    "url = \"https://kream.co.kr/search?category_id=23&sort=popular&per_page=40\"\n",
    "header = {'User-Agent':'Mozila/5.0'}\n",
    "res = req.get(url, headers=header).text\n",
    "# res  = req.urlopen(url)\n",
    "\n",
    "soup = BeautifulSoup(res, \"html.parser\")\n",
    "\n",
    "soup.select('div.search_content')\n",
    "\n",
    "img_list = soup.select(\"div.product > picture > img\")"
   ]
  },
  {
   "cell_type": "code",
   "execution_count": 9,
   "id": "d42c1a6d",
   "metadata": {},
   "outputs": [
    {
     "data": {
      "text/plain": [
       "40"
      ]
     },
     "execution_count": 9,
     "metadata": {},
     "output_type": "execute_result"
    }
   ],
   "source": [
    "len(img_list)"
   ]
  },
  {
   "cell_type": "code",
   "execution_count": 4,
   "id": "f97daa86",
   "metadata": {},
   "outputs": [
    {
     "data": {
      "text/plain": [
       "[<img alt=\"이지 갭 엔지니어드 바이 발렌시아가 도브 후드 블랙\" class=\"image\" data-v-6c8b3524=\"\" src=\"https://kream-phinf.pstatic.net/MjAyMjA3MjZfMjU3/MDAxNjU4ODEzNTY2ODQz.getPUPMDgZ3SgDPTXgjzcKJQMkoxySRRzbVqVaUqrQYg.Dr99Jf-HjzDiaKmgCdIi4gCa9DtkUB35UGs5k3vd3oQg.JPEG/a_72139f2cf15e40a88c0e18632338818d.jpg?type=m\"/>,\n",
       " <img alt=\"에센셜 더 코어 컬렉션 후드 라이트 오트밀 - 22SS\" class=\"image\" data-v-6c8b3524=\"\" src=\"https://kream-phinf.pstatic.net/MjAyMjA2MjNfMjc0/MDAxNjU1OTYwODc4NjUy.VmdUKPA_f3Ifhb4r5JffmE1pgQoHLedhy1u0o-5GIYIg.ePOEbc7EZg2fDIRmqyeScspY217WtxhhbBiM1YppDeQg.JPEG/a_04a81d9258854247804390e99cead18f.jpg?type=m\"/>,\n",
       " <img alt=\"스투시 베이직 스투시 후드 블랙 2022\" class=\"image\" data-v-6c8b3524=\"\" src=\"https://kream-phinf.pstatic.net/MjAyMjAyMDhfMjc3/MDAxNjQ0MzAzNjE2MzA1.S88TxtpuY3AYewuLRZLofVyg4Q6kaMoNX8xa-4OParUg.2eqR7LCl0e5XI5BUmXoc8FzdOarswGr8w4-wJw3ahC0g.PNG/a_ac3651adb7f34b83aba3e6b2a0e43ea7.png?type=m\"/>,\n",
       " <img alt=\"나이키 x 스투시 NRG RA 풀오버 후드 다크 그레이 헤더 (DJ9488-063)\" class=\"image\" data-v-6c8b3524=\"\" src=\"https://kream-phinf.pstatic.net/MjAyMjA1MTZfNjEg/MDAxNjUyNjcxMjcyNTQ3.WTMmuCSZ86jnDdbWN6UAlnJQ_frBYNBkTWk7BQTQrQAg.6zmlqoFKj4Vd9PcRNkm2D4Sz7QNnv4ETE4gV8w6Fj2Ug.JPEG/a_1985bccd58344df3af438909bdf5a717.jpg?type=m\"/>,\n",
       " <img alt=\"나이키 x 스투시 NRG RA 워시드 풀오버 후드 블랙 (DN4028-010)\" class=\"image\" data-v-6c8b3524=\"\" src=\"https://kream-phinf.pstatic.net/MjAyMjA1MTZfMTc4/MDAxNjUyNjcxMzU5OTc4.p99N1WsanutRZXxlE0Iix1hRG-KlBlpt3jfblGw7wW8g.BLNGf_SVdrjudZziIvhoVLVjpZTdvPz1e-DYl1zq8N8g.JPEG/a_e476a50597314977a6de44a222e6c7f5.jpg?type=m\"/>,\n",
       " <img alt=\"에센셜 더 코어 컬렉션 후드 다크 오트밀 - 22SS\" class=\"image\" data-v-6c8b3524=\"\" src=\"https://kream-phinf.pstatic.net/MjAyMjA2MjNfMTY5/MDAxNjU1OTYwODg2NjE1.BOuGYQX7jRVVPHQP7YKiPAj-YiSmRhfb_NvCcogUresg.weQ2jSooZdQvcAWCNTW3dYHDGBdI-p1fHkb8NnzMN4og.JPEG/a_f0c472c2e5c04a7792608264bc7521bf.jpg?type=m\"/>,\n",
       " <img alt=\"아이앱 스튜디오 피그먼트 후드 로얄 블루 - 22FW\" class=\"image\" data-v-6c8b3524=\"\" src=\"https://kream-phinf.pstatic.net/MjAyMjA4MDFfMjg5/MDAxNjU5MzUxNzgzNTMz.NLWX9NJQQpniK2VE29ka9EeAerBf9S2UIY4cxkFfjjQg.lQJy-afsviUNJIKvSlf3hZDGNyofBJEzKb6OudsaqcYg.JPEG/a_3e31bc93975341819a4617017872a94c.jpg?type=m\"/>,\n",
       " <img alt=\"아이앱 스튜디오 후드 블랙 화이트\" class=\"image\" data-v-6c8b3524=\"\" src=\"https://kream-phinf.pstatic.net/MjAyMjA0MTJfMjY5/MDAxNjQ5NzM5Njc2MjEx.jV7UetF1oan-8z72cn7jaIv_5u74N6VG6BtpJQTtjPwg.ZdfmpVogCPmMX_gGHyiiBacu6M2V-iTymhqOGWhadgUg.JPEG/a_c293ecb64c984c469fd398657733b905.jpg?type=m\"/>,\n",
       " <img alt=\"에센셜 더 코어 컬렉션 후드 스트레치 리모 - 22SS\" class=\"image\" data-v-6c8b3524=\"\" src=\"https://kream-phinf.pstatic.net/MjAyMjA2MjNfMTc3/MDAxNjU1OTYwODk0MDUw.LSHv6lRGXXqEDb8AKpOk_YmDlSw2It6H0YG4wdjfohgg.qpBm13_HyWihvm97wrtVAT8ZUSqGvkCr3uoktZeN7l0g.JPEG/a_a050b4074b04482eb23988bc701c1790.jpg?type=m\"/>,\n",
       " <img alt=\"아이앱 스튜디오 후드 집업 그레이 - 22FW\" class=\"image\" data-v-6c8b3524=\"\" src=\"https://kream-phinf.pstatic.net/MjAyMjA4MDFfMTg3/MDAxNjU5MzUxNzcyNzUy.9JwaO5Y-fX5mods4t4LPHMRkl2fMhgNVnXI9eR0nYx4g.t_Io90528k_D4u7FLbKwcGNIRt9rUnKYVGLGfz5UJesg.JPEG/a_1a2043319fb84a3caee1ac333e5ab2d2.jpg?type=m\"/>,\n",
       " <img alt=\"스투시 베이직 스투시 후드 집업 블랙 2022\" class=\"image\" data-v-6c8b3524=\"\" src=\"https://kream-phinf.pstatic.net/MjAyMjAyMDlfMjgg/MDAxNjQ0MzkwNjk4NzA5.PLqlzHhV7ggdfLjxOB41P6DZP8UzKTv1E_eCBYJmbd0g.RFti2TLjosyMx4sJWw-5wnk1yY0CujEFOw9-01T1nAYg.PNG/a_59afc6b2228140cd86782868f26547e7.png?type=m\"/>,\n",
       " <img alt=\"스투시 베이직 스투시 후드 애쉬 헤더 2022\" class=\"image\" data-v-6c8b3524=\"\" src=\"https://kream-phinf.pstatic.net/MjAyMjAyMTRfMjQg/MDAxNjQ0ODE1NDU1Nzk2.MZ8fNUhX2TJVqTtgah9l1crEwlNOytVMofHokMu0fk8g.2la3C6JOHbTlITzhPhROj6-hR3TLdwaqOMRiaXlDxZ8g.PNG/a_8a253cdb2b414ab5a73345f87838ec11.png?type=m\"/>,\n",
       " <img alt=\"스투시 x CPFM 8볼 피그먼트 다이드 후드 블루\" class=\"image\" data-v-6c8b3524=\"\" src=\"https://kream-phinf.pstatic.net/MjAyMjA3MDFfMTg1/MDAxNjU2NjM5OTQzMDgy.k4q_81-S-n3tNROlBKaEsAY1uwuupfvEaF4OFBwKwggg.8CNWT-dUDsL7RKOnQT3LqbxNSPu8H7wZpvcqsq2q79Ug.JPEG/a_9595a77002614dadb0611e5a65444eef.jpg?type=m\"/>,\n",
       " <img alt=\"우영미 코튼 화이트 백로고 후드 블랙 - 22FW\" class=\"image\" data-v-6c8b3524=\"\" src=\"https://kream-phinf.pstatic.net/MjAyMjA4MjZfMTU4/MDAxNjYxNDg5MTcyMzQx.Te8eXntJDcSki8e90BhRdXrQXz_5adKv8I7UPI96rb8g.6TN2KCED9mUryuqvtUnaRF2iLJZ0Sh-xQqUJ0kWG-V4g.JPEG/a_296edfaeebab481db7c363d4369f9fc8.jpg?type=m\"/>,\n",
       " <img alt=\"나이키 x 자크뮈스 NRG 플리스 후드 세일 - 아시아\" class=\"image\" data-v-6c8b3524=\"\" src=\"https://kream-phinf.pstatic.net/MjAyMjA3MDRfNDcg/MDAxNjU2OTE0MzM0OTQ1.oT3P9M4uP-Xu46wxeNPNg2tW6fSTLLh8zRE-v34RW2Ag.LDAmbod3oWeE9MiG9Wdps5YAYC19PzZco0RgU5Q8fAEg.JPEG/a_d7b22dc4d0fb4466ae0075a563aba922.jpg?type=m\"/>,\n",
       " <img alt=\"아미 스몰 하트 로고 후드 블랙 - 22SS\" class=\"image\" data-v-6c8b3524=\"\" src=\"https://kream-phinf.pstatic.net/MjAyMjAxMjhfMTM5/MDAxNjQzMzM5Mjc4NjA5.8k5MMsii6Jdcm3IrKkdVct0QxZQ5IQ3y8pM7BVsJot4g.Y_4SNpHQI0f6AKt--Bs_2Rn3-x7Ic_MGKDokZ6j5rFQg.PNG/a_94a490492c7f46558493a1a34c0f8192.png?type=m\"/>,\n",
       " <img alt=\"스투시 베이직 스투시 후드 집업 애쉬 헤더 2022\" class=\"image\" data-v-6c8b3524=\"\" src=\"https://kream-phinf.pstatic.net/MjAyMjAyMTVfMjg0/MDAxNjQ0OTEwMzU1MTM4.T1ZiidFdElNgowI7lfr-l1dVYFtHyEe_gwWCUz_rYPcg.c7D5_eElalbmy8TbwN6r5NXKF5ozCWeJeIVVWhvJl58g.PNG/a_3ea3915bdda24d94b18ef578623bcd58.png?type=m\"/>,\n",
       " <img alt=\"아이앱 스튜디오 후드 라이트 그레이\" class=\"image\" data-v-6c8b3524=\"\" src=\"https://kream-phinf.pstatic.net/MjAyMjA4MDVfMjY0/MDAxNjU5NjY1NzI4NzA5.Xo8r4I_yHMVsejlHa-j9pPIxYNPDD1I8AjRw0pDzFYYg.P2BPwMbofvxQq9RSNDgWRUNKFp4mlFnJcP5hRDwuMpYg.PNG/a_96cf42e9adc64d108f31dbe5f1456f8c.png?type=m\"/>,\n",
       " <img alt=\"아이앱 스튜디오 후드 라즈베리\" class=\"image\" data-v-6c8b3524=\"\" src=\"https://kream-phinf.pstatic.net/MjAyMTEwMjlfNDMg/MDAxNjM1NTAwNzk0OTAx.H1jXbKfiRzcy3QwHPtyhR3VMykz0qQZg6aTlW1ylc00g.3kKLFVQovI6xk3w-cVKERj13CuHQw6GLzGj0Bj2CNxEg.JPEG/a_5e32b762cbd348f6a0752537e8b30cf0.jpg?type=m\"/>,\n",
       " <img alt=\"이지 갭 엔지니어드 바이 발렌시아가 도브 후드 다크 그레이\" class=\"image\" data-v-6c8b3524=\"\" src=\"https://kream-phinf.pstatic.net/MjAyMjA3MDdfMTA2/MDAxNjU3MTcwNjU1OTg2.FPjpl1deWGRsNntSLHgcCiPcpiozHz1_ajmdJDQlh28g.SjumeOqltULvvISuPXcU5CBktthMwG685ofmM3rrn7kg.JPEG/a_5250c695c3a7472c822ea84434d09b16.jpg?type=m\"/>,\n",
       " <img alt=\"에센셜 1977 후드 아이언 - 22SS\" class=\"image\" data-v-6c8b3524=\"\" src=\"https://kream-phinf.pstatic.net/MjAyMjA4MTBfMTA4/MDAxNjYwMTEwMDUxNTgz.a4f-3Vl9O_2vjA6LofUVrOWJ6Q24ZuRAi06A9vWzGVog.sktKWIhmkz-69KJgAD90QN9VdH3L-MkGJ1IaU8amSuEg.JPEG/a_f6974b57804846a6b284c533a308cd4a.jpg?type=m\"/>,\n",
       " <img alt=\"아이앱 스튜디오 후드 오트밀 버건디\" class=\"image\" data-v-6c8b3524=\"\" src=\"https://kream-phinf.pstatic.net/MjAyMjAzMDRfMTE5/MDAxNjQ2Mzg3MjU1NTk1.8gzWHRycVRzfRoN6U_WSjCxlqG9sq807zcLh-nIwar4g.poqPXGQR2NorycKMg2XdnnblZk60oM0Q7OJxe-CXKcUg.JPEG/a_12998286fa1a4d62b6e49603f90769ef.jpg?type=m\"/>,\n",
       " <img alt=\"아이앱 스튜디오 후드 브라운\" class=\"image\" data-v-6c8b3524=\"\" src=\"https://kream-phinf.pstatic.net/MjAyMTEwMjlfMjQ2/MDAxNjM1NTAwODA1Mzk3.b4mlIwIJEoEwAS1FP2GJ6hculjXBljPmSC3Q_9lxCLAg.7NrVfbchD4OZYSUE8W30OPvWBmOdCznbqDkTL8g19Ycg.JPEG/a_ee81f4bc949e49c6a51d03c11060731a.jpg?type=m\"/>,\n",
       " <img alt=\"스톤 아일랜드 64151 코튼 플리스 후드 스웨트셔츠 블랙 - 22SS\" class=\"image\" data-v-6c8b3524=\"\" src=\"https://kream-phinf.pstatic.net/MjAyMjA0MTFfNTEg/MDAxNjQ5NjU0ODkyMjk3.qTxtlcZZjkQXNoyeGhomTxGLo6SAa3pSNpM6WgPRKRcg.4wwa-CxxGdwyEeExtIlGfENh7TjT3eoVmX_lT2tQpAQg.JPEG/a_8c445bfec4b747208276f754d1b7dc76.jpg?type=m\"/>,\n",
       " <img alt=\"스투시 베이직 스투시 후드 네이비 2022\" class=\"image\" data-v-6c8b3524=\"\" src=\"https://kream-phinf.pstatic.net/MjAyMjAyMTZfMTEy/MDAxNjQ1MDA3ODk4MDE0.xxtbHppZpqBeJCkRCNkPO6N678q203-dMLDcCHR4mKgg.rNFCbJiAwNPHAwxrBR8z7BvWLwhdCoRDUuJTf1blKSAg.PNG/a_cbfa774042974d77b7162ec8aa3f4939.png?type=m\"/>,\n",
       " <img alt=\"나이키 NRG 솔로 스우시 플리스 후드 블랙 화이트 - 아시아\" class=\"image\" data-v-6c8b3524=\"\" src=\"https://kream-phinf.pstatic.net/MjAyMjAzMzBfMTgy/MDAxNjQ4NjE0Nzk2ODQ1.-tUQEG4DcdlOYSUMTLn6jyaFEvTtKXqyLxMH6OjSzYAg.F0YtVx0sZbGM645eY5PzTqT60UXVadLAsSnb-9AdQoQg.JPEG/a_795596dccf15417d9c9cdd7950abc3cc.jpg?type=m\"/>,\n",
       " <img alt=\"스투시 플립 후드 집업 블랙\" class=\"image\" data-v-6c8b3524=\"\" src=\"https://kream-phinf.pstatic.net/MjAyMjA3MjlfMjA3/MDAxNjU5MDYyMTA2MTE3.wyo6ErSYYGJBY6s9ZoH2NTlab6uatcBUXF6Z-Aqd_RUg.Y2ThGBglgBYseQLdUeOWL02qKJgGqaHEwj1mgYAn4o0g.JPEG/a_c97aa83580d946199dd647f3561f94d4.jpg?type=m\"/>,\n",
       " <img alt=\"이지 갭 후드 블랙\" class=\"image\" data-v-6c8b3524=\"\" src=\"https://kream-phinf.pstatic.net/MjAyMjAzMTFfMjcg/MDAxNjQ2OTg3Mjc4Mzkw.2ngf2pwKJnCZKJhYSe6M8kLVGnwuV4dgpfyfU5XBwacg.6MRwCp3gEqDYB83WE6iyY45FH_0aLGFbH0K7Okc2v2cg.JPEG/a_14dd3154a9934806869eb302e286b2f7.jpg?type=m\"/>,\n",
       " <img alt=\"스투시 월드투어 후드 블랙 2022\" class=\"image\" data-v-6c8b3524=\"\" src=\"https://kream-phinf.pstatic.net/MjAyMjA1MDRfNjQg/MDAxNjUxNjQ0OTI3ODE5.jDsP-40iGd-gpaqMx3TsHlk5csPPtrFU_rMtqlmFOgAg.4VsVMShfF0t7wU-yK1-mjtJnAuTGPvJJFia0-YsJj3Yg.JPEG/a_21e83f885ee34852b1ed42e626cbfa58.jpg?type=m\"/>,\n",
       " <img alt=\"에센셜 코어 컬렉션 풀오버 후드 블랙\" class=\"image\" data-v-6c8b3524=\"\" src=\"https://kream-phinf.pstatic.net/MjAyMjA4MTBfMjIy/MDAxNjYwMTEwMDE3NzU0.v-hUtITvygcsVqi1Zd6pMn92LsjxcbTRngcNCWACFBYg.NTbatai_ivipOAJGrPtUB1au6f9g3HcFfkgw7542_HIg.JPEG/a_fc7f6eaa6d0c4f8b9cd6cb355b569cd0.jpg?type=m\"/>,\n",
       " <img alt=\"나이키 x 자크뮈스 NRG 플리스 후드 세일 - US/EU\" class=\"image\" data-v-6c8b3524=\"\" src=\"https://kream-phinf.pstatic.net/MjAyMjA3MDdfMTA3/MDAxNjU3MTg5MjIwODM3.NUPKf9672e0hSjPnLu3NPasO-6I3y3Qv4i2spzkfeTYg.IE2VmuUMmVWe5BE4qRXLGt982ZIVdb9cda-dX2WBAv8g.JPEG/a_7cd615995e7a46a9a22654faaa440165.jpg?type=m\"/>,\n",
       " <img alt=\"에센셜 1977 후드 위트 - 22SS\" class=\"image\" data-v-6c8b3524=\"\" src=\"https://kream-phinf.pstatic.net/MjAyMjA4MTBfMjUy/MDAxNjYwMTEwMTA4NjI0.Ms0e2F_MYJJFSmXM3gMsG1w7iLt1kmXSnAmNjVf8awQg.Wa_dlaSGZveow7zcC3oxVJyovTjBGRmd3GWtdPSB9vYg.JPEG/a_a88973e1ef1643688db7d9c370738326.jpg?type=m\"/>,\n",
       " <img alt=\"이지 갭 엔지니어드 바이 발렌시아가 도브 후드 화이트\" class=\"image\" data-v-6c8b3524=\"\" src=\"https://kream-phinf.pstatic.net/MjAyMjAzMTdfMTYg/MDAxNjQ3NDkyMzA0Nzk5.sv-UODe-v936KZG5aCe_YjZttiMQsQZdIB6Itash0rsg.j5gSVz-lD41Oa2vAPu56WHZtU8R5kZMO29lwGt7mHWIg.JPEG/a_089c4dca03f943f8b53e5de62618da0b.jpg?type=m\"/>,\n",
       " <img alt=\"이지 갭 엔지니어드 바이 발렌시아가 도브 후드 베이지\" class=\"image\" data-v-6c8b3524=\"\" src=\"https://kream-phinf.pstatic.net/MjAyMjAzMTdfMTc3/MDAxNjQ3NDkyMjc1NDk3.JyDzEORaqMjuY45UQC8FlcdPPnwWCA5mPMPTpix176cg.O4cP3vfBFAL-8a2a6zO4M0Erkl9CbWd2cer5Kt1maB8g.JPEG/a_3be28026999c4238abfe90d38359ce39.jpg?type=m\"/>,\n",
       " <img alt=\"팔라스 트라이메쉬 후드 블랙 - 22SS\" class=\"image\" data-v-6c8b3524=\"\" src=\"https://kream-phinf.pstatic.net/MjAyMjA1MTJfMTA3/MDAxNjUyMzIxNTgyMDAx.VQJTsTnEmVT5JLOMO1tlevMjJR3JT4ElaDMPCov1vrog.lhwcmBWprPndWAJunRtnMwWkgNBIOYLYNFVP87fy-YIg.JPEG/a_650f05e770594c68adc5637658cb9f77.jpg?type=m\"/>,\n",
       " <img alt=\"나이키 NRG 솔로 스우시 플리스 후드 블랙 화이트 - US/EU\" class=\"image\" data-v-6c8b3524=\"\" src=\"https://kream-phinf.pstatic.net/MjAyMjAzMzBfMjM5/MDAxNjQ4NjE0ODI5OTMy.U4KD5GYosgvin_KO7eqXTjG4J4OZDCLP_zmXUQ9_Wicg._5HrRyytTK0hmya5FwSV3KCI4aay1RxVTyPj1YPswnEg.JPEG/a_f4fc5b777b1b40e3a83882b95d1e3735.jpg?type=m\"/>,\n",
       " <img alt=\"나이키 x 스투시 NRG 플리스 헴프 풀오버 내츄럴\" class=\"image\" data-v-6c8b3524=\"\" src=\"https://kream-phinf.pstatic.net/MjAyMjA4MDVfNzMg/MDAxNjU5NjY1MzQ2Mjcw.YnCSwhSPIVuWnK8s-MPzkQkWa9Fkpmg79CFSkTsV4hMg.9bPoMbAVtwRiXZjCa4Xymm4TpgloupcK42Uh68J1JcIg.JPEG/a_33ca838ea825448cb0f9626b6c12208d.jpg?type=m\"/>,\n",
       " <img alt=\"슈프림 x 버버리 박스로고 후드 스웨트셔츠 블랙 - 22SS\" class=\"image\" data-v-6c8b3524=\"\" src=\"https://kream-phinf.pstatic.net/MjAyMjAzMTRfNjgg/MDAxNjQ3MjQ3NTQwMDAz.lJKnYPO0AkaB1Fw5bVzDYAKYK2VDel-PgWWkyH7UQQwg.Hxb8H6vNgwSpkeXLa_MSTs8nmLHIUqsyVJidJqZ1LvIg.JPEG/a_6858040280fa4f04b429de77936be571.jpg?type=m\"/>,\n",
       " <img alt=\"아이앱 스튜디오 블록 피그먼트 후드 블랙\" class=\"image\" data-v-6c8b3524=\"\" src=\"https://kream-phinf.pstatic.net/MjAyMTAzMTlfOTkg/MDAxNjE2MTQ2NDY1MTYw.7zcyrLnvefzxBBd84tEtlYWwnuWrai9hX86v_rOYWvAg.LWiA2EC3j_Yhsa86RInHprlHokExYfbdikqJ5LQtLhsg.JPEG/p_a97f1ddbc03a4113807a0bca7adc2b39.jpg?type=m\"/>,\n",
       " <img alt=\"아더에러 TRS 데칼 후드 집업 그레이\" class=\"image\" data-v-6c8b3524=\"\" src=\"https://kream-phinf.pstatic.net/MjAyMjA5MjJfMTg3/MDAxNjYzODI0MDAwOTMx.r5-RZjTIq6ahr4buuE-52samLzGfiBlRE-i-F6kSlPwg.5bunWdIqQ04-VkhXrm6kfoeqLwJN8m2vUOn5-WjeBeMg.JPEG/a_47a5296c4b604abcaf09eab6a8486473.jpg?type=m\"/>]"
      ]
     },
     "execution_count": 4,
     "metadata": {},
     "output_type": "execute_result"
    }
   ],
   "source": [
    "img_list"
   ]
  },
  {
   "cell_type": "code",
   "execution_count": 7,
   "id": "06fb6a74",
   "metadata": {},
   "outputs": [
    {
     "name": "stderr",
     "output_type": "stream",
     "text": [
      "100%|██████████████████████████████████████████████████████████████████| 40/40 [00:01<00:00, 27.07it/s]"
     ]
    },
    {
     "name": "stdout",
     "output_type": "stream",
     "text": [
      "저장 완료!\n"
     ]
    },
    {
     "name": "stderr",
     "output_type": "stream",
     "text": [
      "\n"
     ]
    }
   ],
   "source": [
    "clothes_num = 1\n",
    "save_dir = \"./img/kream_tshirts\"\n",
    "\n",
    "for img in tqdm(img_list):\n",
    "    # data-original = 이미지 경로\n",
    "    img_url = img.attrs['src']\n",
    "    savename = \"{}/{}_long_sleeve.png\".format(save_dir, clothes_num);\n",
    "    clothes_num += 1\n",
    "    request.urlretrieve(img_url, savename)\n",
    "        \n",
    "print(\"저장 완료!\")"
   ]
  },
  {
   "cell_type": "code",
   "execution_count": null,
   "id": "bf2c452d",
   "metadata": {},
   "outputs": [],
   "source": []
  }
 ],
 "metadata": {
  "kernelspec": {
   "display_name": "Python 3 (ipykernel)",
   "language": "python",
   "name": "python3"
  },
  "language_info": {
   "codemirror_mode": {
    "name": "ipython",
    "version": 3
   },
   "file_extension": ".py",
   "mimetype": "text/x-python",
   "name": "python",
   "nbconvert_exporter": "python",
   "pygments_lexer": "ipython3",
   "version": "3.8.13"
  }
 },
 "nbformat": 4,
 "nbformat_minor": 5
}
