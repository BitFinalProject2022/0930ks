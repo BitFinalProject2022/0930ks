{
 "cells": [
  {
   "cell_type": "code",
   "execution_count": 1,
   "id": "3ccc8bb7",
   "metadata": {},
   "outputs": [],
   "source": [
    "import os, shutil"
   ]
  },
  {
   "cell_type": "code",
   "execution_count": 2,
   "id": "84f97999",
   "metadata": {},
   "outputs": [],
   "source": [
    "base_dir = 'data/clothes'\n",
    "if not os.path.exists(base_dir):\n",
    "    os.mkdir(base_dir)\n",
    "    \n",
    "train_dir = os.path.join(base_dir, 'train')\n",
    "#os.mkdir(train_dir)\n",
    "test_dir = os.path.join(base_dir, 'test')\n",
    "#os.mkdir(test_dir)"
   ]
  },
  {
   "cell_type": "code",
   "execution_count": 3,
   "id": "13d058d4",
   "metadata": {},
   "outputs": [],
   "source": [
    "train_onepiece_dir = os.path.join(train_dir, 'onepiece')\n",
    "#os.mkdir(train_onepiece_dir)\n",
    "\n",
    "train_shortSleeve_dir = os.path.join(train_dir, 'shortSleeve')\n",
    "#os.mkdir(train_shortSleeve_dir)"
   ]
  },
  {
   "cell_type": "code",
   "execution_count": 4,
   "id": "a80d0de0",
   "metadata": {},
   "outputs": [],
   "source": [
    "test_onepiece_dir = os.path.join(test_dir, 'onepiece')\n",
    "#os.mkdir(test_onepiece_dir)\n",
    "\n",
    "test_shortSleeve_dir = os.path.join(test_dir, 'shortSleeve')\n",
    "#os.mkdir(test_shortSleeve_dir)"
   ]
  },
  {
   "cell_type": "code",
   "execution_count": 5,
   "id": "ec351291",
   "metadata": {},
   "outputs": [
    {
     "name": "stdout",
     "output_type": "stream",
     "text": [
      "훈련용 원피스 이미지 전체 개수: 924\n",
      "훈련용 반팔티 이미지 전체 개수: 1500\n",
      "테스트용 원피스 이미지 전체 개수: 230\n",
      "테스트용 반팔티 이미지 전체 개수: 382\n"
     ]
    }
   ],
   "source": [
    "print('훈련용 원피스 이미지 전체 개수:', \n",
    "      len(os.listdir(train_onepiece_dir)))\n",
    "print('훈련용 반팔티 이미지 전체 개수:', \n",
    "      len(os.listdir(train_shortSleeve_dir)))\n",
    "print('테스트용 원피스 이미지 전체 개수:', \n",
    "      len(os.listdir(test_onepiece_dir)))\n",
    "print('테스트용 반팔티 이미지 전체 개수:', \n",
    "      len(os.listdir(test_shortSleeve_dir)))"
   ]
  },
  {
   "cell_type": "code",
   "execution_count": 6,
   "id": "bc2c65cc",
   "metadata": {},
   "outputs": [],
   "source": [
    "from tensorflow.keras.models import Sequential\n",
    "from tensorflow.keras import layers\n",
    "from tensorflow.keras.callbacks import EarlyStopping"
   ]
  },
  {
   "cell_type": "code",
   "execution_count": 7,
   "id": "c32049f0",
   "metadata": {},
   "outputs": [
    {
     "name": "stdout",
     "output_type": "stream",
     "text": [
      "Model: \"sequential\"\n",
      "_________________________________________________________________\n",
      " Layer (type)                Output Shape              Param #   \n",
      "=================================================================\n",
      " conv2d (Conv2D)             (None, 148, 148, 32)      896       \n",
      "                                                                 \n",
      " max_pooling2d (MaxPooling2D  (None, 74, 74, 32)       0         \n",
      " )                                                               \n",
      "                                                                 \n",
      " conv2d_1 (Conv2D)           (None, 72, 72, 64)        18496     \n",
      "                                                                 \n",
      " max_pooling2d_1 (MaxPooling  (None, 36, 36, 64)       0         \n",
      " 2D)                                                             \n",
      "                                                                 \n",
      " conv2d_2 (Conv2D)           (None, 34, 34, 128)       73856     \n",
      "                                                                 \n",
      " max_pooling2d_2 (MaxPooling  (None, 17, 17, 128)      0         \n",
      " 2D)                                                             \n",
      "                                                                 \n",
      " conv2d_3 (Conv2D)           (None, 15, 15, 128)       147584    \n",
      "                                                                 \n",
      " max_pooling2d_3 (MaxPooling  (None, 7, 7, 128)        0         \n",
      " 2D)                                                             \n",
      "                                                                 \n",
      " flatten (Flatten)           (None, 6272)              0         \n",
      "                                                                 \n",
      " dropout (Dropout)           (None, 6272)              0         \n",
      "                                                                 \n",
      " dense (Dense)               (None, 512)               3211776   \n",
      "                                                                 \n",
      " dense_1 (Dense)             (None, 1)                 513       \n",
      "                                                                 \n",
      "=================================================================\n",
      "Total params: 3,453,121\n",
      "Trainable params: 3,453,121\n",
      "Non-trainable params: 0\n",
      "_________________________________________________________________\n"
     ]
    }
   ],
   "source": [
    "model = Sequential()\n",
    "model.add(layers.Conv2D(32, (3,3), input_shape=(150, 150, 3), activation='relu'))\n",
    "model.add(layers.MaxPooling2D((2,2)))\n",
    "model.add(layers.Conv2D(64, (3,3), activation='relu'))\n",
    "model.add(layers.MaxPooling2D((2,2)))\n",
    "model.add(layers.Conv2D(128, (3,3), activation='relu'))\n",
    "model.add(layers.MaxPooling2D((2,2)))\n",
    "model.add(layers.Conv2D(128, (3,3), activation='relu'))\n",
    "model.add(layers.MaxPooling2D((2,2)))\n",
    "model.add(layers.Flatten())\n",
    "model.add(layers.Dropout(0.2))\n",
    "model.add(layers.Dense(512, activation='relu'))\n",
    "model.add(layers.Dense(1, activation='sigmoid'))\n",
    "model.summary()"
   ]
  },
  {
   "cell_type": "code",
   "execution_count": 8,
   "id": "eba4c5dd",
   "metadata": {},
   "outputs": [],
   "source": [
    "model.compile(loss='binary_crossentropy', optimizer='adam', metrics=['accuracy'])\n",
    "early_stopping = EarlyStopping(monitor='val_loss', patience=6)"
   ]
  },
  {
   "cell_type": "code",
   "execution_count": 9,
   "id": "5f959a86",
   "metadata": {},
   "outputs": [
    {
     "name": "stdout",
     "output_type": "stream",
     "text": [
      "Found 2423 images belonging to 2 classes.\n",
      "Found 612 images belonging to 2 classes.\n"
     ]
    }
   ],
   "source": [
    "from tensorflow.keras.preprocessing.image import ImageDataGenerator\n",
    "\n",
    "train_datagen = ImageDataGenerator(rescale=1./255)\n",
    "test_datagen = ImageDataGenerator(rescale=1./255)\n",
    "\n",
    "train_generator = train_datagen.flow_from_directory(train_dir,\n",
    "                                                   target_size=(150, 150), # 이미지 크기 지정(모든 데이터가 크기 동일하게)\n",
    "                                                   batch_size=20,\n",
    "                                                   class_mode='binary')    # 두 폴더중 첫번째를 0(원피스), 두번째를 1(반팔)\n",
    "\n",
    "validation_generator = test_datagen.flow_from_directory(test_dir,\n",
    "                                                   target_size=(150, 150),\n",
    "                                                   batch_size=20,\n",
    "                                                   class_mode='binary')"
   ]
  },
  {
   "cell_type": "code",
   "execution_count": 10,
   "id": "7bd7b8b0",
   "metadata": {},
   "outputs": [
    {
     "name": "stdout",
     "output_type": "stream",
     "text": [
      "Epoch 1/30\n",
      "122/122 [==============================] - 42s 332ms/step - loss: 0.5982 - accuracy: 0.6711 - val_loss: 0.5072 - val_accuracy: 0.7451\n",
      "Epoch 2/30\n",
      "122/122 [==============================] - 27s 222ms/step - loss: 0.4851 - accuracy: 0.7656 - val_loss: 0.4951 - val_accuracy: 0.7500\n",
      "Epoch 3/30\n",
      "122/122 [==============================] - 28s 228ms/step - loss: 0.4291 - accuracy: 0.7994 - val_loss: 0.4611 - val_accuracy: 0.7778\n",
      "Epoch 4/30\n",
      "122/122 [==============================] - 27s 220ms/step - loss: 0.3751 - accuracy: 0.8246 - val_loss: 0.4425 - val_accuracy: 0.7925\n",
      "Epoch 5/30\n",
      "122/122 [==============================] - 29s 236ms/step - loss: 0.3105 - accuracy: 0.8638 - val_loss: 0.3664 - val_accuracy: 0.8333\n",
      "Epoch 6/30\n",
      "122/122 [==============================] - 27s 220ms/step - loss: 0.2719 - accuracy: 0.8828 - val_loss: 0.3261 - val_accuracy: 0.8562\n",
      "Epoch 7/30\n",
      "122/122 [==============================] - 27s 221ms/step - loss: 0.2190 - accuracy: 0.9133 - val_loss: 0.2991 - val_accuracy: 0.8709\n",
      "Epoch 8/30\n",
      "122/122 [==============================] - 28s 225ms/step - loss: 0.1572 - accuracy: 0.9369 - val_loss: 0.4547 - val_accuracy: 0.8448\n",
      "Epoch 9/30\n",
      "122/122 [==============================] - 25s 208ms/step - loss: 0.1351 - accuracy: 0.9505 - val_loss: 0.4363 - val_accuracy: 0.8415\n",
      "Epoch 10/30\n",
      "122/122 [==============================] - 26s 211ms/step - loss: 0.0826 - accuracy: 0.9736 - val_loss: 0.3570 - val_accuracy: 0.8709\n",
      "Epoch 11/30\n",
      "122/122 [==============================] - 26s 211ms/step - loss: 0.0720 - accuracy: 0.9719 - val_loss: 0.5345 - val_accuracy: 0.8497\n",
      "Epoch 12/30\n",
      "122/122 [==============================] - 25s 208ms/step - loss: 0.0820 - accuracy: 0.9699 - val_loss: 0.4213 - val_accuracy: 0.8758\n",
      "Epoch 13/30\n",
      "122/122 [==============================] - 27s 218ms/step - loss: 0.0779 - accuracy: 0.9761 - val_loss: 0.8012 - val_accuracy: 0.8203\n"
     ]
    }
   ],
   "source": [
    "history = model.fit(train_generator, epochs=30, validation_data = validation_generator,\n",
    "                   callbacks=[early_stopping])"
   ]
  },
  {
   "cell_type": "code",
   "execution_count": 11,
   "id": "25167fb7",
   "metadata": {},
   "outputs": [],
   "source": [
    "import matplotlib.pyplot as plt\n",
    "\n",
    "import os\n",
    "os.environ[\"KMP_DUPLICATE_LIB_OK\"]=\"TRUE\""
   ]
  },
  {
   "cell_type": "code",
   "execution_count": 12,
   "id": "996447af",
   "metadata": {
    "scrolled": false
   },
   "outputs": [
    {
     "data": {
      "image/png": "[encoded data removed]",
      "text/plain": [
       "<Figure size 432x288 with 1 Axes>"
      ]
     },
     "metadata": {
      "needs_background": "light"
     },
     "output_type": "display_data"
    },
    {
     "data": {
      "image/png": "[encoded data removed]",
      "text/plain": [
       "<Figure size 432x288 with 1 Axes>"
      ]
     },
     "metadata": {
      "needs_background": "light"
     },
     "output_type": "display_data"
    }
   ],
   "source": [
    "acc = history.history['accuracy']\n",
    "val_acc = history.history['val_accuracy']\n",
    "loss = history.history['loss']\n",
    "val_loss = history.history['val_loss']\n",
    "\n",
    "epochs = range(len(acc))\n",
    "\n",
    "plt.plot(epochs, acc, 'ro', label='Training acc')\n",
    "plt.plot(epochs, val_acc, 'b', label='Validation acc')\n",
    "plt.title('Training and validation accuracy')\n",
    "plt.legend()\n",
    "\n",
    "plt.figure()\n",
    "\n",
    "plt.plot(epochs, loss, 'ro', label='Training loss')\n",
    "plt.plot(epochs, val_loss, 'b', label='Validation loss')\n",
    "plt.title('Training and validation loss')\n",
    "plt.legend()\n",
    "\n",
    "plt.show()"
   ]
  },
  {
   "cell_type": "code",
   "execution_count": 21,
   "id": "d5e58427",
   "metadata": {},
   "outputs": [
    {
     "name": "stdout",
     "output_type": "stream",
     "text": [
      "Found 6 images belonging to 1 classes.\n",
      "1/1 [==============================] - 0s 82ms/step\n"
     ]
    },
    {
     "data": {
      "text/plain": [
       "array([[6.9587213e-01],\n",
       "       [1.1266076e-04],\n",
       "       [9.6812618e-01],\n",
       "       [4.5520377e-01],\n",
       "       [3.8987705e-01],\n",
       "       [6.0370755e-01]], dtype=float32)"
      ]
     },
     "execution_count": 21,
     "metadata": {},
     "output_type": "execute_result"
    }
   ],
   "source": [
    "self_dir = os.path.join('data', 'tmp_0930')\n",
    "self_rescale = ImageDataGenerator(rescale = 1./255)\n",
    "self_test = self_rescale.flow_from_directory(self_dir,target_size=(150,150),class_mode='binary')\n",
    "Y_prediction = model.predict(self_test)\n",
    "Y_prediction"
   ]
  },
  {
   "cell_type": "code",
   "execution_count": 1,
   "id": "0dd57bf2",
   "metadata": {},
   "outputs": [
    {
     "ename": "NameError",
     "evalue": "name 'os' is not defined",
     "output_type": "error",
     "traceback": [
      "\u001b[1;31m---------------------------------------------------------------------------\u001b[0m",
      "\u001b[1;31mNameError\u001b[0m                                 Traceback (most recent call last)",
      "Input \u001b[1;32mIn [1]\u001b[0m, in \u001b[0;36m<cell line: 1>\u001b[1;34m()\u001b[0m\n\u001b[1;32m----> 1\u001b[0m self_dir \u001b[38;5;241m=\u001b[39m \u001b[43mos\u001b[49m\u001b[38;5;241m.\u001b[39mpath\u001b[38;5;241m.\u001b[39mjoin(\u001b[38;5;124m'\u001b[39m\u001b[38;5;124mdata\u001b[39m\u001b[38;5;124m'\u001b[39m, \u001b[38;5;124m'\u001b[39m\u001b[38;5;124mtmp_0930\u001b[39m\u001b[38;5;124m'\u001b[39m)\n\u001b[0;32m      2\u001b[0m self_rescale \u001b[38;5;241m=\u001b[39m ImageDataGenerator(rescale \u001b[38;5;241m=\u001b[39m \u001b[38;5;241m1.\u001b[39m\u001b[38;5;241m/\u001b[39m\u001b[38;5;241m255\u001b[39m)\n\u001b[0;32m      3\u001b[0m self_test \u001b[38;5;241m=\u001b[39m self_rescale\u001b[38;5;241m.\u001b[39mflow_from_directory(self_dir,target_size\u001b[38;5;241m=\u001b[39m(\u001b[38;5;241m150\u001b[39m,\u001b[38;5;241m150\u001b[39m),class_mode\u001b[38;5;241m=\u001b[39m\u001b[38;5;124m'\u001b[39m\u001b[38;5;124mcategorical\u001b[39m\u001b[38;5;124m'\u001b[39m)\n",
      "\u001b[1;31mNameError\u001b[0m: name 'os' is not defined"
     ]
    }
   ],
   "source": [
    "self_dir = os.path.join('data', 'tmp_0930')\n",
    "self_rescale = ImageDataGenerator(rescale = 1./255)\n",
    "self_test = self_rescale.flow_from_directory(self_dir,target_size=(150,150),class_mode='categorical')\n",
    "Y_prediction = model.predict(self_test)\n",
    "Y_prediction"
   ]
  },
  {
   "cell_type": "code",
   "execution_count": null,
   "id": "faa74ac2",
   "metadata": {},
   "outputs": [],
   "source": []
  }
 ],
 "metadata": {
  "kernelspec": {
   "display_name": "Python 3 (ipykernel)",
   "language": "python",
   "name": "python3"
  },
  "language_info": {
   "codemirror_mode": {
    "name": "ipython",
    "version": 3
   },
   "file_extension": ".py",
   "mimetype": "text/x-python",
   "name": "python",
   "nbconvert_exporter": "python",
   "pygments_lexer": "ipython3",
   "version": "3.8.13"
  }
 },
 "nbformat": 4,
 "nbformat_minor": 5
}
