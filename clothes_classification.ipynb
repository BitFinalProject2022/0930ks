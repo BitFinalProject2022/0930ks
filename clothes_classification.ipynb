{
 "cells": [
  {
   "cell_type": "code",
   "execution_count": 1,
   "id": "3ccc8bb7",
   "metadata": {},
   "outputs": [],
   "source": [
    "import os, shutil"
   ]
  },
  {
   "cell_type": "code",
   "execution_count": 2,
   "id": "84f97999",
   "metadata": {},
   "outputs": [],
   "source": [
    "base_dir = 'data/test'\n",
    "if not os.path.exists(base_dir):\n",
    "    os.mkdir(base_dir)\n",
    "    \n",
    "train_dir = os.path.join(base_dir, 'train')\n",
    "#os.mkdir(train_dir)\n",
    "test_dir = os.path.join(base_dir, 'test')\n",
    "#os.mkdir(test_dir)"
   ]
  },
  {
   "cell_type": "code",
   "execution_count": 3,
   "id": "13d058d4",
   "metadata": {},
   "outputs": [],
   "source": [
    "train_longSleeve_dir = os.path.join(train_dir, 'longSleeve')\n",
    "#os.mkdir(train_onepiece_dir)\n",
    "\n",
    "train_mantoman_dir = os.path.join(train_dir, 'mantoman')\n",
    "#os.mkdir(train_hood_dir)"
   ]
  },
  {
   "cell_type": "code",
   "execution_count": 4,
   "id": "a80d0de0",
   "metadata": {},
   "outputs": [],
   "source": [
    "test_longSleeve_dir = os.path.join(test_dir, 'longSleeve')\n",
    "#os.mkdir(test_onepiece_dir)\n",
    "\n",
    "test_mantoman_dir = os.path.join(test_dir, 'mantoman')\n",
    "#os.mkdir(test_hood_dir)"
   ]
  },
  {
   "cell_type": "code",
   "execution_count": 5,
   "id": "ec351291",
   "metadata": {},
   "outputs": [
    {
     "name": "stdout",
     "output_type": "stream",
     "text": [
      "훈련용 긴팔티 이미지 전체 개수: 12000\n",
      "훈련용 맨투맨 이미지 전체 개수: 12000\n",
      "테스트용 긴팔티 이미지 전체 개수: 3000\n",
      "테스트용 맨투맨 이미지 전체 개수: 3000\n"
     ]
    }
   ],
   "source": [
    "print('훈련용 긴팔티 이미지 전체 개수:', \n",
    "      len(os.listdir(train_longSleeve_dir)))\n",
    "print('훈련용 맨투맨 이미지 전체 개수:', \n",
    "      len(os.listdir(train_mantoman_dir)))\n",
    "print('테스트용 긴팔티 이미지 전체 개수:', \n",
    "      len(os.listdir(test_longSleeve_dir)))\n",
    "print('테스트용 맨투맨 이미지 전체 개수:', \n",
    "      len(os.listdir(test_mantoman_dir)))"
   ]
  },
  {
   "cell_type": "code",
   "execution_count": 6,
   "id": "bc2c65cc",
   "metadata": {},
   "outputs": [],
   "source": [
    "from tensorflow.keras.models import Sequential\n",
    "from tensorflow.keras import layers\n",
    "from tensorflow.keras.callbacks import EarlyStopping"
   ]
  },
  {
   "cell_type": "code",
   "execution_count": 7,
   "id": "c32049f0",
   "metadata": {},
   "outputs": [
    {
     "name": "stdout",
     "output_type": "stream",
     "text": [
      "Model: \"sequential\"\n",
      "_________________________________________________________________\n",
      " Layer (type)                Output Shape              Param #   \n",
      "=================================================================\n",
      " conv2d (Conv2D)             (None, 218, 258, 32)      896       \n",
      "                                                                 \n",
      " max_pooling2d (MaxPooling2D  (None, 109, 129, 32)     0         \n",
      " )                                                               \n",
      "                                                                 \n",
      " conv2d_1 (Conv2D)           (None, 107, 127, 64)      18496     \n",
      "                                                                 \n",
      " max_pooling2d_1 (MaxPooling  (None, 53, 63, 64)       0         \n",
      " 2D)                                                             \n",
      "                                                                 \n",
      " conv2d_2 (Conv2D)           (None, 51, 61, 128)       73856     \n",
      "                                                                 \n",
      " max_pooling2d_2 (MaxPooling  (None, 25, 30, 128)      0         \n",
      " 2D)                                                             \n",
      "                                                                 \n",
      " conv2d_3 (Conv2D)           (None, 23, 28, 128)       147584    \n",
      "                                                                 \n",
      " max_pooling2d_3 (MaxPooling  (None, 11, 14, 128)      0         \n",
      " 2D)                                                             \n",
      "                                                                 \n",
      " flatten (Flatten)           (None, 19712)             0         \n",
      "                                                                 \n",
      " dropout (Dropout)           (None, 19712)             0         \n",
      "                                                                 \n",
      " dense (Dense)               (None, 512)               10093056  \n",
      "                                                                 \n",
      " dense_1 (Dense)             (None, 1)                 513       \n",
      "                                                                 \n",
      "=================================================================\n",
      "Total params: 10,334,401\n",
      "Trainable params: 10,334,401\n",
      "Non-trainable params: 0\n",
      "_________________________________________________________________\n"
     ]
    }
   ],
   "source": [
    "model = Sequential()\n",
    "model.add(layers.Conv2D(32, (3,3), input_shape=(220, 260, 3), activation='relu'))\n",
    "model.add(layers.MaxPooling2D((2,2)))\n",
    "model.add(layers.Conv2D(64, (3,3), activation='relu'))\n",
    "model.add(layers.MaxPooling2D((2,2)))\n",
    "model.add(layers.Conv2D(128, (3,3), activation='relu'))\n",
    "model.add(layers.MaxPooling2D((2,2)))\n",
    "model.add(layers.Conv2D(128, (3,3), activation='relu'))\n",
    "model.add(layers.MaxPooling2D((2,2)))\n",
    "model.add(layers.Flatten())\n",
    "model.add(layers.Dropout(0.5))\n",
    "model.add(layers.Dense(512, activation='relu'))\n",
    "model.add(layers.Dense(1, activation='sigmoid'))\n",
    "model.summary()"
   ]
  },
  {
   "cell_type": "code",
   "execution_count": 8,
   "id": "eba4c5dd",
   "metadata": {},
   "outputs": [],
   "source": [
    "model.compile(loss='binary_crossentropy', optimizer='adam', metrics=['accuracy'])\n",
    "early_stopping = EarlyStopping(monitor='val_loss', patience=5)"
   ]
  },
  {
   "cell_type": "code",
   "execution_count": 9,
   "id": "5f959a86",
   "metadata": {},
   "outputs": [
    {
     "name": "stdout",
     "output_type": "stream",
     "text": [
      "Found 24000 images belonging to 2 classes.\n",
      "Found 6000 images belonging to 2 classes.\n"
     ]
    }
   ],
   "source": [
    "from tensorflow.keras.preprocessing.image import ImageDataGenerator\n",
    "\n",
    "train_datagen = ImageDataGenerator(rescale=1./255)\n",
    "test_datagen = ImageDataGenerator(rescale=1./255)\n",
    "\n",
    "train_generator = train_datagen.flow_from_directory(train_dir,\n",
    "                                                   target_size=(220, 260), # 이미지 크기 지정(모든 데이터가 크기 동일하게)\n",
    "                                                   batch_size=20,\n",
    "                                                   class_mode='binary')    # 두 폴더중 첫번째를 0(긴팔티), 두번째를 1(맨투맨)\n",
    "\n",
    "validation_generator = test_datagen.flow_from_directory(test_dir,\n",
    "                                                   target_size=(220, 260),\n",
    "                                                   batch_size=20,\n",
    "                                                   class_mode='binary')"
   ]
  },
  {
   "cell_type": "code",
   "execution_count": 10,
   "id": "7bd7b8b0",
   "metadata": {
    "scrolled": true
   },
   "outputs": [
    {
     "name": "stdout",
     "output_type": "stream",
     "text": [
      "Epoch 1/20\n",
      "1200/1200 [==============================] - 738s 614ms/step - loss: 0.5865 - accuracy: 0.6802 - val_loss: 0.5205 - val_accuracy: 0.7387\n",
      "Epoch 2/20\n",
      "1200/1200 [==============================] - 713s 594ms/step - loss: 0.4732 - accuracy: 0.7701 - val_loss: 0.4673 - val_accuracy: 0.7767\n",
      "Epoch 3/20\n",
      "1200/1200 [==============================] - 717s 597ms/step - loss: 0.4120 - accuracy: 0.8034 - val_loss: 0.4528 - val_accuracy: 0.7918\n",
      "Epoch 4/20\n",
      "1200/1200 [==============================] - 717s 598ms/step - loss: 0.3668 - accuracy: 0.8329 - val_loss: 0.4440 - val_accuracy: 0.7988\n",
      "Epoch 5/20\n",
      "1200/1200 [==============================] - 701s 585ms/step - loss: 0.3210 - accuracy: 0.8574 - val_loss: 0.4427 - val_accuracy: 0.7978\n",
      "Epoch 6/20\n",
      "1200/1200 [==============================] - 720s 600ms/step - loss: 0.2759 - accuracy: 0.8812 - val_loss: 0.4654 - val_accuracy: 0.8055\n",
      "Epoch 7/20\n",
      "1200/1200 [==============================] - 718s 599ms/step - loss: 0.2280 - accuracy: 0.9042 - val_loss: 0.4903 - val_accuracy: 0.8125\n",
      "Epoch 8/20\n",
      "1200/1200 [==============================] - 704s 586ms/step - loss: 0.1900 - accuracy: 0.9227 - val_loss: 0.5474 - val_accuracy: 0.7875\n",
      "Epoch 9/20\n",
      "1200/1200 [==============================] - 698s 581ms/step - loss: 0.1595 - accuracy: 0.9378 - val_loss: 0.5814 - val_accuracy: 0.8013\n",
      "Epoch 10/20\n",
      "1200/1200 [==============================] - 720s 600ms/step - loss: 0.1316 - accuracy: 0.9490 - val_loss: 0.6466 - val_accuracy: 0.7818\n"
     ]
    }
   ],
   "source": [
    "history = model.fit(train_generator, epochs=20, validation_data = validation_generator,\n",
    "                   callbacks=[early_stopping])"
   ]
  },
  {
   "cell_type": "code",
   "execution_count": 11,
   "id": "25167fb7",
   "metadata": {},
   "outputs": [],
   "source": [
    "import matplotlib.pyplot as plt\n",
    "\n",
    "import os\n",
    "os.environ[\"KMP_DUPLICATE_LIB_OK\"]=\"TRUE\""
   ]
  },
  {
   "cell_type": "code",
   "execution_count": 12,
   "id": "996447af",
   "metadata": {
    "scrolled": false
   },
   "outputs": [
    {
     "data": {
      "image/png": "[encoded data removed]",
      "text/plain": [
       "<Figure size 432x288 with 1 Axes>"
      ]
     },
     "metadata": {
      "needs_background": "light"
     },
     "output_type": "display_data"
    },
    {
     "data": {
      "image/png": "[encoded data removed]",
      "text/plain": [
       "<Figure size 432x288 with 1 Axes>"
      ]
     },
     "metadata": {
      "needs_background": "light"
     },
     "output_type": "display_data"
    }
   ],
   "source": [
    "acc = history.history['accuracy']\n",
    "val_acc = history.history['val_accuracy']\n",
    "loss = history.history['loss']\n",
    "val_loss = history.history['val_loss']\n",
    "\n",
    "epochs = range(len(acc))\n",
    "\n",
    "plt.plot(epochs, acc, 'ro', label='Training acc')\n",
    "plt.plot(epochs, val_acc, 'b', label='Validation acc')\n",
    "plt.title('Training and validation accuracy')\n",
    "plt.legend()\n",
    "\n",
    "plt.figure()\n",
    "\n",
    "plt.plot(epochs, loss, 'ro', label='Training loss')\n",
    "plt.plot(epochs, val_loss, 'b', label='Validation loss')\n",
    "plt.title('Training and validation loss')\n",
    "plt.legend()\n",
    "\n",
    "plt.show()"
   ]
  },
  {
   "cell_type": "code",
   "execution_count": 20,
   "id": "436ea665",
   "metadata": {
    "scrolled": true
   },
   "outputs": [
    {
     "name": "stdout",
     "output_type": "stream",
     "text": [
      "Found 1 images belonging to 1 classes.\n",
      "1/1 [==============================] - 0s 44ms/step\n"
     ]
    },
    {
     "data": {
      "text/plain": [
       "array([[0.00161888]], dtype=float32)"
      ]
     },
     "execution_count": 20,
     "metadata": {},
     "output_type": "execute_result"
    }
   ],
   "source": [
    "self_dir = os.path.join('data', 'tmp_0930')\n",
    "self_rescale = ImageDataGenerator(rescale = 1./255)\n",
    "self_test = self_rescale.flow_from_directory(self_dir,target_size=(220, 260),class_mode='binary')\n",
    "Y_prediction = model.predict(self_test)\n",
    "Y_prediction"
   ]
  },
  {
   "cell_type": "code",
   "execution_count": null,
   "id": "700892b8",
   "metadata": {},
   "outputs": [],
   "source": []
  }
 ],
 "metadata": {
  "kernelspec": {
   "display_name": "Python 3 (ipykernel)",
   "language": "python",
   "name": "python3"
  },
  "language_info": {
   "codemirror_mode": {
    "name": "ipython",
    "version": 3
   },
   "file_extension": ".py",
   "mimetype": "text/x-python",
   "name": "python",
   "nbconvert_exporter": "python",
   "pygments_lexer": "ipython3",
   "version": "3.8.13"
  }
 },
 "nbformat": 4,
 "nbformat_minor": 5
}
