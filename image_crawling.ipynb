{
 "cells": [
  {
   "cell_type": "code",
   "execution_count": null,
   "id": "c129f6f6",
   "metadata": {},
   "outputs": [],
   "source": [
    "from bs4 import BeautifulSoup \n",
    "import time\n",
    "import urllib.request as request\n",
    "import os\n",
    "from tqdm import tqdm"
   ]
  },
  {
   "cell_type": "code",
   "execution_count": null,
   "id": "e4f118c0",
   "metadata": {
    "scrolled": true
   },
   "outputs": [],
   "source": [
    "num_page = 169\n",
    "clothes_num = 11\n",
    "save_dir = \"./img/long_sleeve\"\n",
    "\n",
    "for page in range(1, num_page):\n",
    "    # page 변경\n",
    "    url = \"https://www.musinsa.com/categories/item/001010?d_cat_cd=001010&brand=&list_kind=big&sort=pop_category&sub_sort=&page={}&display_cnt=90&group_sale=&exclusive_yn=&sale_goods=&timesale_yn=&ex_soldout=&kids=&color=&price1=&price2=&shoeSizeOption=&tags=&campaign_id=&includeKeywords=&measure=\".format(page)\n",
    "    res = req.urlopen(url)\n",
    "\n",
    "    soup = BeautifulSoup(res, \"html.parser\")\n",
    "    # img 태그 리스트\n",
    "    img_list = soup.select(\"div.list_img > a > img\")\n",
    "    \n",
    "    for img in tqdm(img_list):\n",
    "        # data-original = 이미지 경로\n",
    "        img_url = \"https:\" + img.attrs['data-original']\n",
    "        savename = \"{}/{}_long_sleeve.png\".format(save_dir, clothes_num);\n",
    "        clothes_num += 1\n",
    "        req.urlretrieve(img_url, savename)\n",
    "        \n",
    "    print(savename, \"{}페이지 저장 완료!\".format(page))"
   ]
  },
  {
   "cell_type": "code",
   "execution_count": null,
   "id": "221cda44",
   "metadata": {},
   "outputs": [],
   "source": [
    "clothes_num = 1\n",
    "save_dir = \"./img/kream_tshirts\"\n",
    "\n",
    "url = \"https://www.kream.co.kr/search?category_id=23&sort=popular\"\n",
    "res = req.urlopen(url)\n",
    "\n",
    "soup = BeautifulSoup(res, \"html.parser\")\n",
    "\n",
    "img_list = soup.select(\"div.product > picture > img\")\n",
    "\n",
    "for img in tqdm(img_list):\n",
    "    # data-original = 이미지 경로\n",
    "    img_url = img.attrs['src']\n",
    "    savename = \"{}/{}_tshirts.png\".format(save_dir, clothes_num);\n",
    "    clothes_num += 1\n",
    "    req.urlretrieve(img_url, savename)\n",
    "\n",
    "print(\"저장 완료!\")"
   ]
  },
  {
   "cell_type": "markdown",
   "id": "d76e6cbd",
   "metadata": {},
   "source": [
    "# 크롤링"
   ]
  },
  {
   "cell_type": "code",
   "execution_count": null,
   "id": "6cfa4de7",
   "metadata": {},
   "outputs": [],
   "source": [
    "import requests as req\n",
    "\n",
    "url = \"https://kream.co.kr/search?category_id=23&sort=popular&per_page=40\"\n",
    "header = {'User-Agent':'Mozila/5.0'}\n",
    "res = req.get(url, headers=header).text\n",
    "# res  = req.urlopen(url)\n",
    "\n",
    "soup = BeautifulSoup(res, \"html.parser\")\n",
    "\n",
    "soup.select('div.search_content')[0].select('div.search_result_item')"
   ]
  },
  {
   "cell_type": "code",
   "execution_count": null,
   "id": "049caf90",
   "metadata": {},
   "outputs": [],
   "source": [
    "len(soup.select('div.search_content')[0].select('div.search_result_item'))"
   ]
  },
  {
   "cell_type": "code",
   "execution_count": null,
   "id": "239cf2e2",
   "metadata": {},
   "outputs": [],
   "source": [
    "import requests as req\n",
    "import urllib.request as request\n",
    "from bs4 import BeautifulSoup \n",
    "import time\n",
    "from tqdm import tqdm\n",
    "\n",
    "from selenium import webdriver\n",
    "from selenium.webdriver.chrome.service import Service\n",
    "from selenium.webdriver.common.by import By"
   ]
  },
  {
   "cell_type": "code",
   "execution_count": null,
   "id": "2a0e53f8",
   "metadata": {},
   "outputs": [],
   "source": [
    "url = \"https://kream.co.kr/search?category_id=23&sort=popular&per_page=40\"\n",
    "header = {'User-Agent':'Mozila/5.0'}\n",
    "res = req.get(url, headers=header).text\n",
    "# res  = req.urlopen(url)\n",
    "\n",
    "soup = BeautifulSoup(res, \"html.parser\")\n",
    "\n",
    "#soup.select('div.search_content')\n",
    "\n",
    "img_list = soup.select(\"div.product > picture > img\")\n",
    "\n",
    "#img_list = soup.select(\"div.search_result_item\")"
   ]
  },
  {
   "cell_type": "code",
   "execution_count": null,
   "id": "d42c1a6d",
   "metadata": {},
   "outputs": [],
   "source": [
    "len(img_list)"
   ]
  },
  {
   "cell_type": "code",
   "execution_count": null,
   "id": "f97daa86",
   "metadata": {},
   "outputs": [],
   "source": [
    "img_list"
   ]
  },
  {
   "cell_type": "code",
   "execution_count": null,
   "id": "06fb6a74",
   "metadata": {},
   "outputs": [],
   "source": [
    "clothes_num = 1\n",
    "save_dir = \"./img/kream_tshirts\"\n",
    "\n",
    "for img in tqdm(img_list):\n",
    "    # data-original = 이미지 경로\n",
    "    img_url = img.attrs['src']\n",
    "    savename = \"{}/{}_long_sleeve.png\".format(save_dir, clothes_num);\n",
    "    clothes_num += 1\n",
    "    request.urlretrieve(img_url, savename)\n",
    "        \n",
    "print(\"저장 완료!\")"
   ]
  },
  {
   "cell_type": "markdown",
   "id": "f91c1fdd",
   "metadata": {},
   "source": [
    "# Selenium"
   ]
  },
  {
   "cell_type": "code",
   "execution_count": 2,
   "id": "bf2c452d",
   "metadata": {},
   "outputs": [],
   "source": [
    "import requests as req\n",
    "import urllib.request as request\n",
    "from bs4 import BeautifulSoup \n",
    "import time\n",
    "from tqdm import tqdm\n",
    "\n",
    "from selenium import webdriver\n",
    "from selenium.webdriver.chrome.service import Service\n",
    "from selenium.webdriver.common.by import By"
   ]
  },
  {
   "cell_type": "code",
   "execution_count": 3,
   "id": "84d71e47",
   "metadata": {
    "scrolled": false
   },
   "outputs": [],
   "source": [
    "url = \"\"\"https://kream.co.kr/search?category_id=23&sort=popular&per_page=40\"\"\"\n",
    "driver = webdriver.Chrome(service = Service('driver/chromedriver'))\n",
    "driver.get(url)\n",
    "time.sleep(5)"
   ]
  },
  {
   "cell_type": "code",
   "execution_count": null,
   "id": "f65da77b",
   "metadata": {},
   "outputs": [],
   "source": [
    "cloth_image = driver.find_elements_by_css_selector(\"img\")\n",
    "\n",
    "link_thumbnail = []\n",
    "\n",
    "for img in news_thumbnail:\n",
    "    \n",
    "    link_thumbnail.append(img.get_attribute('div.product > src'))"
   ]
  },
  {
   "cell_type": "code",
   "execution_count": null,
   "id": "7ad36b3e",
   "metadata": {},
   "outputs": [],
   "source": []
  },
  {
   "cell_type": "code",
   "execution_count": null,
   "id": "646f7e93",
   "metadata": {},
   "outputs": [],
   "source": []
  },
  {
   "cell_type": "code",
   "execution_count": null,
   "id": "344d223f",
   "metadata": {},
   "outputs": [],
   "source": []
  },
  {
   "cell_type": "code",
   "execution_count": null,
   "id": "cb3b32b7",
   "metadata": {},
   "outputs": [],
   "source": []
  },
  {
   "cell_type": "code",
   "execution_count": null,
   "id": "d6436051",
   "metadata": {},
   "outputs": [],
   "source": []
  },
  {
   "cell_type": "code",
   "execution_count": null,
   "id": "9b0c70ec",
   "metadata": {},
   "outputs": [],
   "source": []
  },
  {
   "cell_type": "code",
   "execution_count": null,
   "id": "fe6d9715",
   "metadata": {},
   "outputs": [],
   "source": []
  },
  {
   "cell_type": "code",
   "execution_count": 19,
   "id": "25dd1222",
   "metadata": {},
   "outputs": [],
   "source": [
    "xpath = \"\"\"//*[@id=\"__layout\"]/div/div[2]/div[5]/div/div[3]/div[1]/div[1]/a\"\"\"\n",
    "\n",
    "\n",
    "element = driver.find_element(By.XPATH, xpath).click()"
   ]
  },
  {
   "cell_type": "code",
   "execution_count": null,
   "id": "88fc276f",
   "metadata": {},
   "outputs": [],
   "source": []
  }
 ],
 "metadata": {
  "kernelspec": {
   "display_name": "Python 3 (ipykernel)",
   "language": "python",
   "name": "python3"
  },
  "language_info": {
   "codemirror_mode": {
    "name": "ipython",
    "version": 3
   },
   "file_extension": ".py",
   "mimetype": "text/x-python",
   "name": "python",
   "nbconvert_exporter": "python",
   "pygments_lexer": "ipython3",
   "version": "3.8.13"
  }
 },
 "nbformat": 4,
 "nbformat_minor": 5
}
